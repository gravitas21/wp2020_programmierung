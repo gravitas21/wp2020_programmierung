{
 "cells": [
  {
   "cell_type": "markdown",
   "metadata": {},
   "source": [
    "# Econophysics I\n",
    "## Exercise 02 - H05\n",
    "\n",
    "### Juan Camilo Henao Londono\n",
    "### Universität Duisburg-Essen\n",
    "28.04.2020"
   ]
  },
  {
   "cell_type": "code",
   "execution_count": 1,
   "metadata": {},
   "outputs": [],
   "source": [
    "# Modules\n",
    "\n",
    "from math import factorial"
   ]
  },
  {
   "cell_type": "markdown",
   "metadata": {},
   "source": [
    "## Exercise 02. Homework 05. Point 03\n",
    "\n",
    "Calculate the expected profit after 500 laps. What is the maximum profit after 500 laps and how likely is it?"
   ]
  },
  {
   "cell_type": "code",
   "execution_count": 6,
   "metadata": {},
   "outputs": [
    {
     "name": "stdout",
     "output_type": "stream",
     "text": [
      "The expected profit after 500 rounds is 3.9323262e+12 Euros\n"
     ]
    }
   ],
   "source": [
    "rounds = 500\n",
    "bet_0 = 100\n",
    "exp_profit = 0\n",
    "win_factor = 1.5\n",
    "lose_factor = 0.6\n",
    "\n",
    "\n",
    "for n in range(501):\n",
    "    \n",
    "    exp_profit += bet_0 * 1.5 ** n * 0.6 ** (500 - n) * n*rounds #* ((factorial(500)) / (factorial(n) * factorial(500 - n))) * 0.5 ** 500\n",
    "    \n",
    "print(f'The expected profit after 500 rounds is {exp_profit_500:.7e} Euros')"
   ]
  },
  {
   "cell_type": "code",
   "execution_count": 4,
   "metadata": {},
   "outputs": [
    {
     "name": "stdout",
     "output_type": "stream",
     "text": [
      "The expected profit after 500 rounds is 3.9323262e+12 Euros\n"
     ]
    }
   ],
   "source": [
    "rounds = 500\n",
    "bet_0 = 100\n",
    "exp_profit = 0.05\n",
    "\n",
    "exp_profit_500 = bet_0 * (1 + exp_profit) ** rounds\n",
    "\n",
    "print(f'The expected profit after 500 rounds is {exp_profit_500:.7e} Euros')"
   ]
  },
  {
   "cell_type": "code",
   "execution_count": 5,
   "metadata": {},
   "outputs": [
    {
     "name": "stdout",
     "output_type": "stream",
     "text": [
      "The largest possible win is 1.1107838e+90 Euros\n",
      "The probability to obtain the largest possible win is 3.0549364e-151\n"
     ]
    }
   ],
   "source": [
    "rounds = 500\n",
    "bet_0 = 100\n",
    "win_factor = 1.5\n",
    "prob_win = 0.5\n",
    "\n",
    "max_profit = bet_0 * win_factor ** 500\n",
    "prob_max_profit = prob_win ** rounds\n",
    "\n",
    "print(f'The largest possible win is {max_profit:.7e} Euros')\n",
    "print(f'The probability to obtain the largest possible win is {prob_max_profit:.7e}')"
   ]
  }
 ],
 "metadata": {
  "kernelspec": {
   "display_name": "Python 3",
   "language": "python",
   "name": "python3"
  },
  "language_info": {
   "codemirror_mode": {
    "name": "ipython",
    "version": 3
   },
   "file_extension": ".py",
   "mimetype": "text/x-python",
   "name": "python",
   "nbconvert_exporter": "python",
   "pygments_lexer": "ipython3",
   "version": "3.6.7"
  }
 },
 "nbformat": 4,
 "nbformat_minor": 2
}
