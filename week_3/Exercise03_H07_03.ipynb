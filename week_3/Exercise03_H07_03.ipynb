{
 "cells": [
  {
   "cell_type": "markdown",
   "metadata": {},
   "source": [
    "# Econophysics I\n",
    "## Exercise 03 - H07\n",
    "\n",
    "### Juan Camilo Henao Londono\n",
    "### Universität Duisburg-Essen\n",
    "05.05.2020"
   ]
  },
  {
   "cell_type": "code",
   "execution_count": 1,
   "metadata": {},
   "outputs": [],
   "source": [
    "import numpy as np\n",
    "from matplotlib import pyplot as plt"
   ]
  },
  {
   "cell_type": "markdown",
   "metadata": {},
   "source": [
    "## Exercise 03. Homework 07. Point 03\n",
    "\n",
    "Generate e.g. with Python in each case $N = 10 000$ random numbers $\\epsilon$, which satisfy the distribution $q_{1} \\left(\\epsilon\\right)$ or $q_{2} \\left(\\epsilon\\right)$. Calculate the mean and variance of the first $100$, the first $1000$ and all random numbers."
   ]
  },
  {
   "cell_type": "code",
   "execution_count": 2,
   "metadata": {},
   "outputs": [],
   "source": [
    "# Constant values\n",
    "\n",
    "a1 = 3. ** 0.5\n",
    "b1 = 1. / (2. * a1)\n",
    "a2 = 1.\n",
    "b2 = 0.5"
   ]
  },
  {
   "cell_type": "code",
   "execution_count": 3,
   "metadata": {},
   "outputs": [],
   "source": [
    "# Number of random numbers\n",
    "N = 10000"
   ]
  },
  {
   "cell_type": "code",
   "execution_count": 9,
   "metadata": {},
   "outputs": [
    {
     "name": "stdout",
     "output_type": "stream",
     "text": [
      "Mean and variance - First 100 random numbers\n",
      "q_1\n",
      "Mean = -0.1692\n",
      "Variance = 0.8476\n",
      "q_2\n",
      "Mean = -0.0400\n",
      "Variance = 0.9984\n",
      "\n",
      "Mean and variance - First 1000 random numbers\n",
      "q_1\n",
      "Mean = 0.0310\n",
      "Variance = 1.0007\n",
      "q_2\n",
      "Mean = -0.0580\n",
      "Variance = 0.9966\n",
      "\n",
      "Mean and variance - First all the random numbers\n",
      "q_1\n",
      "Mean = 0.0038\n",
      "Variance = 1.0018\n",
      "q_2\n",
      "Mean = -0.0050\n",
      "Variance = 1.0000\n",
      "\n"
     ]
    }
   ],
   "source": [
    "# random number between -a1 and a1\n",
    "eps_1 = 2. * (np.random.random(N) - 0.5) * a1\n",
    "\n",
    "# random number between -a2 and a2. From the distribution\n",
    "# the result can only be -a2 or a2.\n",
    "eps_2 = ((2. * np.random.randint(2, size=N)) - 1) * a2\n",
    "\n",
    "# Mean and variance\n",
    "print('Mean and variance - First 100 random numbers')\n",
    "print('q_1')\n",
    "print(f'Mean = {np.mean(eps_1[:100]):.4f}')\n",
    "print(f'Variance = {np.var(eps_1[:100]):.4f}')\n",
    "print('q_2')\n",
    "print(f'Mean = {np.mean(eps_2[:100]):.4f}')\n",
    "print(f'Variance = {np.var(eps_2[:100]):.4f}')\n",
    "print()\n",
    "\n",
    "print('Mean and variance - First 1000 random numbers')\n",
    "print('q_1')\n",
    "print(f'Mean = {np.mean(eps_1[:1000]):.4f}')\n",
    "print(f'Variance = {np.var(eps_1[:1000]):.4f}')\n",
    "print('q_2')\n",
    "print(f'Mean = {np.mean(eps_2[:1000]):.4f}')\n",
    "print(f'Variance = {np.var(eps_2[:1000]):.4f}')\n",
    "print()\n",
    "\n",
    "print('Mean and variance - First all the random numbers')\n",
    "print('q_1')\n",
    "print(f'Mean = {np.mean(eps_1):.4f}')\n",
    "print(f'Variance = {np.var(eps_1):.4f}')\n",
    "print('q_2')\n",
    "print(f'Mean = {np.mean(eps_2):.4f}')\n",
    "print(f'Variance = {np.var(eps_2):.4f}')\n",
    "print()"
   ]
  },
  {
   "cell_type": "code",
   "execution_count": null,
   "metadata": {},
   "outputs": [],
   "source": []
  }
 ],
 "metadata": {
  "kernelspec": {
   "display_name": "Python 3",
   "language": "python",
   "name": "python3"
  },
  "language_info": {
   "codemirror_mode": {
    "name": "ipython",
    "version": 3
   },
   "file_extension": ".py",
   "mimetype": "text/x-python",
   "name": "python",
   "nbconvert_exporter": "python",
   "pygments_lexer": "ipython3",
   "version": "3.6.5"
  }
 },
 "nbformat": 4,
 "nbformat_minor": 2
}
