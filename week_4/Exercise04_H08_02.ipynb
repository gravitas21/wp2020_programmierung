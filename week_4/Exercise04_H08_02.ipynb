{
 "cells": [
  {
   "cell_type": "markdown",
   "metadata": {},
   "source": [
    "# Econophysics I\n",
    "## Exercise 04 - H08\n",
    "\n",
    "### Juan Camilo Henao Londono\n",
    "### Universität Duisburg-Essen\n",
    "12.05.2020"
   ]
  },
  {
   "cell_type": "code",
   "execution_count": 1,
   "metadata": {},
   "outputs": [],
   "source": [
    "# Modules\n",
    "import numpy as np\n",
    "from matplotlib import pyplot as plt\n",
    "\n",
    "from ipywidgets import interactive"
   ]
  },
  {
   "cell_type": "markdown",
   "metadata": {},
   "source": [
    "## Exercise 04. Homework 08. Point 02\n",
    "\n",
    "In addition, study the effect on the results by changing any of the $\\mu$, $\\sigma$, $N$, $t_{1}-t_{0}$, or $S \\left( t_{0} \\right)$ parameters."
   ]
  },
  {
   "cell_type": "code",
   "execution_count": 2,
   "metadata": {},
   "outputs": [],
   "source": [
    "def brownian_motion(t0, t, s0, mu, sigma, N):\n",
    "    \n",
    "    delta_t = (t - t0) / N\n",
    "    \n",
    "    epsilon = np.random.normal(size=N) \n",
    "    \n",
    "    delta_s = mu * delta_t * np.ones(N) + sigma * epsilon * delta_t ** .5\n",
    "    \n",
    "    t_vec = np.append(t0, t0 + np.cumsum(delta_t * np.ones(N)))\n",
    "    s_vec = np.append(s0, s0 + np.cumsum(delta_s))\n",
    "    \n",
    "    return (t_vec , s_vec)"
   ]
  },
  {
   "cell_type": "code",
   "execution_count": 3,
   "metadata": {},
   "outputs": [],
   "source": [
    "# Initial values\n",
    "\n",
    "mu_ = [0.01, 0.1, 1, 10, 100]\n",
    "sigma_ = [0.01, 0.1, 1, 10, 100]\n",
    "N_ = [10, 100, 1000, 10000, 100000]\n",
    "t0_ = [0 , 1, 10, 100]\n",
    "t_ = [1, 2, 11, 101]\n",
    "s0_ = [0, 1, 100]"
   ]
  },
  {
   "cell_type": "code",
   "execution_count": 4,
   "metadata": {},
   "outputs": [],
   "source": [
    "# Interactive function\n",
    "def brownian_motion_plot(mu, sigma, N, t0, t, s0):\n",
    "    \n",
    "    fig = plt.figure(figsize=(16,9))\n",
    "    \n",
    "    (t_vec, s_vec) = brownian_motion(t0, t, s0, mu, sigma, N)\n",
    "    plt.plot(t_vec, s_vec, linewidth=5)\n",
    "    \n",
    "    # clean drift (sigma = 0)\n",
    "    (t_vec, s_vec) = brownian_motion(t0, t, s0, mu, 0 * sigma, N)\n",
    "    plt.plot(t_vec, s_vec, '--k', linewidth = 3, label='Clean drift ($\\sigma = {}$)'.format(0 * sigma))\n",
    "\n",
    "    plt.xlabel(\"$t$\", fontsize=20)\n",
    "    plt.ylabel('$S$', fontsize=20)\n",
    "    plt.title(r\"$\\mu={}$, $\\sigma={}$, $N={}$, $t - t_0 = {}$\".format(mu, sigma, N, t - t0), fontsize=20)\n",
    "    plt.legend(loc='best', fontsize=20)\n",
    "    plt.xlim(min(t_vec), max(t_vec))\n",
    "    plt.grid(True)\n",
    "    \n",
    "    plt.tight_layout()"
   ]
  },
  {
   "cell_type": "code",
   "execution_count": 5,
   "metadata": {},
   "outputs": [],
   "source": [
    "interactive_plot = interactive(brownian_motion_plot, mu=mu_, sigma=sigma_, N=N_, t0=t0_, t=t_, s0=s0_)"
   ]
  },
  {
   "cell_type": "code",
   "execution_count": 6,
   "metadata": {},
   "outputs": [
    {
     "data": {
      "application/vnd.jupyter.widget-view+json": {
       "model_id": "43a4a2493ba34c30990daed161495774",
       "version_major": 2,
       "version_minor": 0
      },
      "text/plain": [
       "interactive(children=(Dropdown(description='mu', options=(0.01, 0.1, 1, 10, 100), value=0.01), Dropdown(descri…"
      ]
     },
     "metadata": {},
     "output_type": "display_data"
    }
   ],
   "source": [
    "interactive_plot"
   ]
  }
 ],
 "metadata": {
  "kernelspec": {
   "display_name": "Python 3",
   "language": "python",
   "name": "python3"
  },
  "language_info": {
   "codemirror_mode": {
    "name": "ipython",
    "version": 3
   },
   "file_extension": ".py",
   "mimetype": "text/x-python",
   "name": "python",
   "nbconvert_exporter": "python",
   "pygments_lexer": "ipython3",
   "version": "3.6.7"
  }
 },
 "nbformat": 4,
 "nbformat_minor": 2
}
